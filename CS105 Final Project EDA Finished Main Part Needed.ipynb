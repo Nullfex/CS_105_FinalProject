{
 "cells": [
  {
   "cell_type": "markdown",
   "id": "a3991f2c",
   "metadata": {},
   "source": [
    "# **Group 13**:\n",
    "Evan Garcia, Jacob Ramos, Casey Kwinn, Daniel Cook"
   ]
  },
  {
   "cell_type": "markdown",
   "id": "63a44b2c",
   "metadata": {},
   "source": [
    "# **Project**: Traffic Volume\n",
    "\n",
    "Traffic is a daily dilemma that most people face in their life way too many times. The average driver in America spends 293 hrs annually behind the wheel.\n",
    "\n",
    "Our group goal is to predict metro traffic volume based on:\n",
    "Hourly weather features, \n",
    "Temperature,\n",
    "Holidays,\n",
    " & Date/Time.\n",
    "\n",
    "We will use a dataset that contains the number of instances of metro traffic during different conditions and features. We want to run and use different regression models to measure and figure out what attributes/features causes the most noticeable effect in traffic. Some techniques we plan to use are the K-Mean Clustering and Cross-Validation."
   ]
  },
  {
   "cell_type": "code",
   "execution_count": 1,
   "id": "ed107ac1",
   "metadata": {},
   "outputs": [
    {
     "data": {
      "text/html": [
       "<div>\n",
       "<style scoped>\n",
       "    .dataframe tbody tr th:only-of-type {\n",
       "        vertical-align: middle;\n",
       "    }\n",
       "\n",
       "    .dataframe tbody tr th {\n",
       "        vertical-align: top;\n",
       "    }\n",
       "\n",
       "    .dataframe thead th {\n",
       "        text-align: right;\n",
       "    }\n",
       "</style>\n",
       "<table border=\"1\" class=\"dataframe\">\n",
       "  <thead>\n",
       "    <tr style=\"text-align: right;\">\n",
       "      <th></th>\n",
       "      <th>holiday</th>\n",
       "      <th>temp</th>\n",
       "      <th>rain_1h</th>\n",
       "      <th>snow_1h</th>\n",
       "      <th>clouds_all</th>\n",
       "      <th>weather_main</th>\n",
       "      <th>weather_description</th>\n",
       "      <th>date_time</th>\n",
       "      <th>traffic_volume</th>\n",
       "    </tr>\n",
       "  </thead>\n",
       "  <tbody>\n",
       "    <tr>\n",
       "      <th>0</th>\n",
       "      <td>None</td>\n",
       "      <td>288.28</td>\n",
       "      <td>0.0</td>\n",
       "      <td>0.0</td>\n",
       "      <td>40</td>\n",
       "      <td>Clouds</td>\n",
       "      <td>scattered clouds</td>\n",
       "      <td>2012-10-02 09:00:00</td>\n",
       "      <td>5545</td>\n",
       "    </tr>\n",
       "    <tr>\n",
       "      <th>1</th>\n",
       "      <td>None</td>\n",
       "      <td>289.36</td>\n",
       "      <td>0.0</td>\n",
       "      <td>0.0</td>\n",
       "      <td>75</td>\n",
       "      <td>Clouds</td>\n",
       "      <td>broken clouds</td>\n",
       "      <td>2012-10-02 10:00:00</td>\n",
       "      <td>4516</td>\n",
       "    </tr>\n",
       "    <tr>\n",
       "      <th>2</th>\n",
       "      <td>None</td>\n",
       "      <td>289.58</td>\n",
       "      <td>0.0</td>\n",
       "      <td>0.0</td>\n",
       "      <td>90</td>\n",
       "      <td>Clouds</td>\n",
       "      <td>overcast clouds</td>\n",
       "      <td>2012-10-02 11:00:00</td>\n",
       "      <td>4767</td>\n",
       "    </tr>\n",
       "    <tr>\n",
       "      <th>3</th>\n",
       "      <td>None</td>\n",
       "      <td>290.13</td>\n",
       "      <td>0.0</td>\n",
       "      <td>0.0</td>\n",
       "      <td>90</td>\n",
       "      <td>Clouds</td>\n",
       "      <td>overcast clouds</td>\n",
       "      <td>2012-10-02 12:00:00</td>\n",
       "      <td>5026</td>\n",
       "    </tr>\n",
       "    <tr>\n",
       "      <th>4</th>\n",
       "      <td>None</td>\n",
       "      <td>291.14</td>\n",
       "      <td>0.0</td>\n",
       "      <td>0.0</td>\n",
       "      <td>75</td>\n",
       "      <td>Clouds</td>\n",
       "      <td>broken clouds</td>\n",
       "      <td>2012-10-02 13:00:00</td>\n",
       "      <td>4918</td>\n",
       "    </tr>\n",
       "    <tr>\n",
       "      <th>...</th>\n",
       "      <td>...</td>\n",
       "      <td>...</td>\n",
       "      <td>...</td>\n",
       "      <td>...</td>\n",
       "      <td>...</td>\n",
       "      <td>...</td>\n",
       "      <td>...</td>\n",
       "      <td>...</td>\n",
       "      <td>...</td>\n",
       "    </tr>\n",
       "    <tr>\n",
       "      <th>48199</th>\n",
       "      <td>None</td>\n",
       "      <td>283.45</td>\n",
       "      <td>0.0</td>\n",
       "      <td>0.0</td>\n",
       "      <td>75</td>\n",
       "      <td>Clouds</td>\n",
       "      <td>broken clouds</td>\n",
       "      <td>2018-09-30 19:00:00</td>\n",
       "      <td>3543</td>\n",
       "    </tr>\n",
       "    <tr>\n",
       "      <th>48200</th>\n",
       "      <td>None</td>\n",
       "      <td>282.76</td>\n",
       "      <td>0.0</td>\n",
       "      <td>0.0</td>\n",
       "      <td>90</td>\n",
       "      <td>Clouds</td>\n",
       "      <td>overcast clouds</td>\n",
       "      <td>2018-09-30 20:00:00</td>\n",
       "      <td>2781</td>\n",
       "    </tr>\n",
       "    <tr>\n",
       "      <th>48201</th>\n",
       "      <td>None</td>\n",
       "      <td>282.73</td>\n",
       "      <td>0.0</td>\n",
       "      <td>0.0</td>\n",
       "      <td>90</td>\n",
       "      <td>Thunderstorm</td>\n",
       "      <td>proximity thunderstorm</td>\n",
       "      <td>2018-09-30 21:00:00</td>\n",
       "      <td>2159</td>\n",
       "    </tr>\n",
       "    <tr>\n",
       "      <th>48202</th>\n",
       "      <td>None</td>\n",
       "      <td>282.09</td>\n",
       "      <td>0.0</td>\n",
       "      <td>0.0</td>\n",
       "      <td>90</td>\n",
       "      <td>Clouds</td>\n",
       "      <td>overcast clouds</td>\n",
       "      <td>2018-09-30 22:00:00</td>\n",
       "      <td>1450</td>\n",
       "    </tr>\n",
       "    <tr>\n",
       "      <th>48203</th>\n",
       "      <td>None</td>\n",
       "      <td>282.12</td>\n",
       "      <td>0.0</td>\n",
       "      <td>0.0</td>\n",
       "      <td>90</td>\n",
       "      <td>Clouds</td>\n",
       "      <td>overcast clouds</td>\n",
       "      <td>2018-09-30 23:00:00</td>\n",
       "      <td>954</td>\n",
       "    </tr>\n",
       "  </tbody>\n",
       "</table>\n",
       "<p>48204 rows × 9 columns</p>\n",
       "</div>"
      ],
      "text/plain": [
       "      holiday    temp  rain_1h  snow_1h  clouds_all  weather_main  \\\n",
       "0        None  288.28      0.0      0.0          40        Clouds   \n",
       "1        None  289.36      0.0      0.0          75        Clouds   \n",
       "2        None  289.58      0.0      0.0          90        Clouds   \n",
       "3        None  290.13      0.0      0.0          90        Clouds   \n",
       "4        None  291.14      0.0      0.0          75        Clouds   \n",
       "...       ...     ...      ...      ...         ...           ...   \n",
       "48199    None  283.45      0.0      0.0          75        Clouds   \n",
       "48200    None  282.76      0.0      0.0          90        Clouds   \n",
       "48201    None  282.73      0.0      0.0          90  Thunderstorm   \n",
       "48202    None  282.09      0.0      0.0          90        Clouds   \n",
       "48203    None  282.12      0.0      0.0          90        Clouds   \n",
       "\n",
       "          weather_description            date_time  traffic_volume  \n",
       "0            scattered clouds  2012-10-02 09:00:00            5545  \n",
       "1               broken clouds  2012-10-02 10:00:00            4516  \n",
       "2             overcast clouds  2012-10-02 11:00:00            4767  \n",
       "3             overcast clouds  2012-10-02 12:00:00            5026  \n",
       "4               broken clouds  2012-10-02 13:00:00            4918  \n",
       "...                       ...                  ...             ...  \n",
       "48199           broken clouds  2018-09-30 19:00:00            3543  \n",
       "48200         overcast clouds  2018-09-30 20:00:00            2781  \n",
       "48201  proximity thunderstorm  2018-09-30 21:00:00            2159  \n",
       "48202         overcast clouds  2018-09-30 22:00:00            1450  \n",
       "48203         overcast clouds  2018-09-30 23:00:00             954  \n",
       "\n",
       "[48204 rows x 9 columns]"
      ]
     },
     "execution_count": 1,
     "metadata": {},
     "output_type": "execute_result"
    }
   ],
   "source": [
    "import pandas as pd\n",
    "import numpy as np\n",
    "import matplotlib.pyplot as plt\n",
    "import statsmodels.api as sm\n",
    "import seaborn as sns\n",
    "import matplotlib.cm as cm\n",
    "from sklearn.cluster import KMeans\n",
    "df = pd.read_csv(\"Metro_Interstate_Traffic_Volume.csv\")\n",
    "df = df.fillna(0)\n",
    "df"
   ]
  },
  {
   "cell_type": "markdown",
   "id": "17cd0430",
   "metadata": {},
   "source": [
    "This is our graph that has 9 columns: Holiday, Temp, Rain1Hour, Snow1Hour, CloudAll, MainWeather, WeatherDescription, DateTime, and TrafficVolume. To start our EDA, we first want to figure out how many unique values there are in each category."
   ]
  },
  {
   "cell_type": "code",
   "execution_count": 2,
   "id": "de0510d6",
   "metadata": {},
   "outputs": [
    {
     "data": {
      "text/plain": [
       "holiday                   12\n",
       "temp                    5843\n",
       "rain_1h                  372\n",
       "snow_1h                   12\n",
       "clouds_all                60\n",
       "weather_main              11\n",
       "weather_description       38\n",
       "date_time              40575\n",
       "traffic_volume          6704\n",
       "dtype: int64"
      ]
     },
     "execution_count": 2,
     "metadata": {},
     "output_type": "execute_result"
    }
   ],
   "source": [
    "df2 = df\n",
    "df2.nunique(axis=0)"
   ]
  },
  {
   "cell_type": "markdown",
   "id": "fb9a96c5",
   "metadata": {},
   "source": [
    "We are now checking the means, count, min, max, and more about this dataset and put it in scientific notation"
   ]
  },
  {
   "cell_type": "code",
   "execution_count": 3,
   "id": "1587a6cd",
   "metadata": {},
   "outputs": [
    {
     "data": {
      "text/html": [
       "<div>\n",
       "<style scoped>\n",
       "    .dataframe tbody tr th:only-of-type {\n",
       "        vertical-align: middle;\n",
       "    }\n",
       "\n",
       "    .dataframe tbody tr th {\n",
       "        vertical-align: top;\n",
       "    }\n",
       "\n",
       "    .dataframe thead th {\n",
       "        text-align: right;\n",
       "    }\n",
       "</style>\n",
       "<table border=\"1\" class=\"dataframe\">\n",
       "  <thead>\n",
       "    <tr style=\"text-align: right;\">\n",
       "      <th></th>\n",
       "      <th>temp</th>\n",
       "      <th>rain_1h</th>\n",
       "      <th>snow_1h</th>\n",
       "      <th>clouds_all</th>\n",
       "      <th>traffic_volume</th>\n",
       "    </tr>\n",
       "  </thead>\n",
       "  <tbody>\n",
       "    <tr>\n",
       "      <th>count</th>\n",
       "      <td>48204.000000</td>\n",
       "      <td>48204.000000</td>\n",
       "      <td>48204.000000</td>\n",
       "      <td>48204.000000</td>\n",
       "      <td>48204.000000</td>\n",
       "    </tr>\n",
       "    <tr>\n",
       "      <th>mean</th>\n",
       "      <td>281.205870</td>\n",
       "      <td>0.334264</td>\n",
       "      <td>0.000222</td>\n",
       "      <td>49.362231</td>\n",
       "      <td>3259.818355</td>\n",
       "    </tr>\n",
       "    <tr>\n",
       "      <th>std</th>\n",
       "      <td>13.338232</td>\n",
       "      <td>44.789133</td>\n",
       "      <td>0.008168</td>\n",
       "      <td>39.015750</td>\n",
       "      <td>1986.860670</td>\n",
       "    </tr>\n",
       "    <tr>\n",
       "      <th>min</th>\n",
       "      <td>0.000000</td>\n",
       "      <td>0.000000</td>\n",
       "      <td>0.000000</td>\n",
       "      <td>0.000000</td>\n",
       "      <td>0.000000</td>\n",
       "    </tr>\n",
       "    <tr>\n",
       "      <th>25%</th>\n",
       "      <td>272.160000</td>\n",
       "      <td>0.000000</td>\n",
       "      <td>0.000000</td>\n",
       "      <td>1.000000</td>\n",
       "      <td>1193.000000</td>\n",
       "    </tr>\n",
       "    <tr>\n",
       "      <th>50%</th>\n",
       "      <td>282.450000</td>\n",
       "      <td>0.000000</td>\n",
       "      <td>0.000000</td>\n",
       "      <td>64.000000</td>\n",
       "      <td>3380.000000</td>\n",
       "    </tr>\n",
       "    <tr>\n",
       "      <th>75%</th>\n",
       "      <td>291.806000</td>\n",
       "      <td>0.000000</td>\n",
       "      <td>0.000000</td>\n",
       "      <td>90.000000</td>\n",
       "      <td>4933.000000</td>\n",
       "    </tr>\n",
       "    <tr>\n",
       "      <th>max</th>\n",
       "      <td>310.070000</td>\n",
       "      <td>9831.300000</td>\n",
       "      <td>0.510000</td>\n",
       "      <td>100.000000</td>\n",
       "      <td>7280.000000</td>\n",
       "    </tr>\n",
       "  </tbody>\n",
       "</table>\n",
       "</div>"
      ],
      "text/plain": [
       "               temp       rain_1h       snow_1h    clouds_all traffic_volume\n",
       "count  48204.000000  48204.000000  48204.000000  48204.000000   48204.000000\n",
       "mean     281.205870      0.334264      0.000222     49.362231    3259.818355\n",
       "std       13.338232     44.789133      0.008168     39.015750    1986.860670\n",
       "min        0.000000      0.000000      0.000000      0.000000       0.000000\n",
       "25%      272.160000      0.000000      0.000000      1.000000    1193.000000\n",
       "50%      282.450000      0.000000      0.000000     64.000000    3380.000000\n",
       "75%      291.806000      0.000000      0.000000     90.000000    4933.000000\n",
       "max      310.070000   9831.300000      0.510000    100.000000    7280.000000"
      ]
     },
     "execution_count": 3,
     "metadata": {},
     "output_type": "execute_result"
    }
   ],
   "source": [
    "df2.describe().apply(lambda s: s.apply(lambda x: format(x, 'f')))"
   ]
  },
  {
   "cell_type": "markdown",
   "id": "f0412a19",
   "metadata": {},
   "source": [
    "To go further in examining the data, we will focus on getting a better understanding of the variables and values."
   ]
  },
  {
   "cell_type": "code",
   "execution_count": 4,
   "id": "e2e5463c",
   "metadata": {},
   "outputs": [
    {
     "data": {
      "text/plain": [
       "array(['Clouds', 'Clear', 'Rain', 'Drizzle', 'Mist', 'Haze', 'Fog',\n",
       "       'Thunderstorm', 'Snow', 'Squall', 'Smoke'], dtype=object)"
      ]
     },
     "execution_count": 4,
     "metadata": {},
     "output_type": "execute_result"
    }
   ],
   "source": [
    "df2.weather_main.unique()"
   ]
  },
  {
   "cell_type": "code",
   "execution_count": 5,
   "id": "7669b8e8",
   "metadata": {},
   "outputs": [
    {
     "data": {
      "text/plain": [
       "array([0.  , 0.51, 0.32, 0.06, 0.05, 0.21, 0.25, 0.44, 0.13, 0.1 , 0.17,\n",
       "       0.08])"
      ]
     },
     "execution_count": 5,
     "metadata": {},
     "output_type": "execute_result"
    }
   ],
   "source": [
    "df2.snow_1h.unique()"
   ]
  },
  {
   "cell_type": "code",
   "execution_count": 6,
   "id": "44f8cf97",
   "metadata": {},
   "outputs": [
    {
     "data": {
      "text/plain": [
       "array(['None', 'Columbus Day', 'Veterans Day', 'Thanksgiving Day',\n",
       "       'Christmas Day', 'New Years Day', 'Washingtons Birthday',\n",
       "       'Memorial Day', 'Independence Day', 'State Fair', 'Labor Day',\n",
       "       'Martin Luther King Jr Day'], dtype=object)"
      ]
     },
     "execution_count": 6,
     "metadata": {},
     "output_type": "execute_result"
    }
   ],
   "source": [
    "df2.holiday.unique()"
   ]
  },
  {
   "cell_type": "code",
   "execution_count": 7,
   "id": "7a22010a",
   "metadata": {},
   "outputs": [
    {
     "data": {
      "text/plain": [
       "array([ 40,  75,  90,   1,  20,   0, 100,  92,  99,  81,  50,  72,  56,\n",
       "        57,  93,  85,  68,  87,  91,  96,  48,  60,   8,  38,  46,  98,\n",
       "        86,  16,   6,  59,  54,  89,  78,  36,  17,  58,  63,  42,  25,\n",
       "        11,  13,  83,  70,  84,   3,  77,  88,  67,  97,  62,  32,   4,\n",
       "         5,   2,  44,  24,  76,  64,  80,  12], dtype=int64)"
      ]
     },
     "execution_count": 7,
     "metadata": {},
     "output_type": "execute_result"
    }
   ],
   "source": [
    "df2.clouds_all.unique()"
   ]
  },
  {
   "cell_type": "code",
   "execution_count": 8,
   "id": "f0c937b4",
   "metadata": {},
   "outputs": [
    {
     "data": {
      "text/plain": [
       "array(['scattered clouds', 'broken clouds', 'overcast clouds',\n",
       "       'sky is clear', 'few clouds', 'light rain',\n",
       "       'light intensity drizzle', 'mist', 'haze', 'fog',\n",
       "       'proximity shower rain', 'drizzle', 'moderate rain',\n",
       "       'heavy intensity rain', 'proximity thunderstorm',\n",
       "       'thunderstorm with light rain', 'proximity thunderstorm with rain',\n",
       "       'heavy snow', 'heavy intensity drizzle', 'snow',\n",
       "       'thunderstorm with heavy rain', 'freezing rain', 'shower snow',\n",
       "       'light rain and snow', 'light intensity shower rain', 'SQUALLS',\n",
       "       'thunderstorm with rain', 'proximity thunderstorm with drizzle',\n",
       "       'thunderstorm', 'Sky is Clear', 'very heavy rain',\n",
       "       'thunderstorm with light drizzle', 'light snow',\n",
       "       'thunderstorm with drizzle', 'smoke', 'shower drizzle',\n",
       "       'light shower snow', 'sleet'], dtype=object)"
      ]
     },
     "execution_count": 8,
     "metadata": {},
     "output_type": "execute_result"
    }
   ],
   "source": [
    "df2.weather_description.unique()"
   ]
  },
  {
   "cell_type": "markdown",
   "id": "a86d8a48",
   "metadata": {},
   "source": [
    "While examining the unique values, one thing we notice in weather description is that some of it is similar to each other, such as 'thunderstorm with light drizzle' and 'thunderstorm with drizzle'. This is redundant and we want to reclassify some of these descriptions."
   ]
  },
  {
   "cell_type": "code",
   "execution_count": 9,
   "id": "ba6356bd",
   "metadata": {},
   "outputs": [
    {
     "data": {
      "text/plain": [
       "array(['scattered clouds', 'broken clouds', 'overcast clouds', 'clear',\n",
       "       'few clouds', 'light rain', 'drizzle', 'mist', 'haze', 'fog',\n",
       "       'shower rain', 'moderate rain', 'heavy rain',\n",
       "       'proximity thunderstorm', 'thunderstorm with rain',\n",
       "       'proximity thunderstorm with rain', 'heavy snow', 'snow', 'squall',\n",
       "       'shower snow', 'proximity thunderstorm with drizzle',\n",
       "       'thunderstorm', 'thunderstorm with drizzle', 'light snow', 'smoke',\n",
       "       'shower drizzle', 'sleet'], dtype=object)"
      ]
     },
     "execution_count": 9,
     "metadata": {},
     "output_type": "execute_result"
    }
   ],
   "source": [
    "def clean_weather_description(row):\n",
    "    \n",
    "    simplifythunderstormrain = ['thunderstorm with light rain', 'thunderstorm with rain', 'thunderstorm with heavy rain' ]\n",
    "    simplifythunderstormdrizzle = ['thunderstorm with drizzle', 'thunderstorm with light drizzle']\n",
    "    simplifydrizzle = ['light intensity drizzle', 'drizzle', 'heavy intensity drizzle']\n",
    "    simplifyskyclear = ['sky is clear','Sky is Clear']\n",
    "    simplifyheavyrain = ['heavy intensity rain', 'very heavy rain']\n",
    "    simplifylightsnow = ['light shower snow', 'light snow']\n",
    "    simplifyshowerrain = ['proximity shower rain', 'shower rain', 'light intensity shower rain']\n",
    "    simplifysquall = ['freezing rain', 'light rain and snow', 'SQUALLS']\n",
    "    \n",
    "    if row.weather_description in simplifythunderstormrain:\n",
    "        return 'thunderstorm with rain'   \n",
    "    if row.weather_description in simplifythunderstormdrizzle:\n",
    "        return 'thunderstorm with drizzle' \n",
    "    if row.weather_description in simplifydrizzle:\n",
    "        return 'drizzle' \n",
    "    if row.weather_description in simplifyskyclear:\n",
    "        return 'clear'\n",
    "    if row.weather_description in simplifyheavyrain:\n",
    "        return 'heavy rain'\n",
    "    if row.weather_description in simplifylightsnow:\n",
    "        return 'light snow'\n",
    "    if row.weather_description in simplifyshowerrain:\n",
    "        return 'shower rain'\n",
    "    if row.weather_description in simplifysquall:\n",
    "        return 'squall'\n",
    "    return row.weather_description # Clean dataframe\n",
    "def clean_df(playlist):\n",
    "    df_cleaned = df2.copy()\n",
    "    df_cleaned['weather_description'] = df_cleaned.apply(lambda row: clean_weather_description(row), axis=1)\n",
    "    return df_cleaned# Get df with reclassfied 'condition' column\n",
    "df_cleaned = clean_df(df2)\n",
    "df_cleaned.weather_description.unique()"
   ]
  },
  {
   "cell_type": "markdown",
   "id": "9aaf74f4",
   "metadata": {},
   "source": [
    "As shown, we reduced some of the variables that were redundant."
   ]
  },
  {
   "cell_type": "markdown",
   "id": "3160d59a",
   "metadata": {},
   "source": [
    "Going through the dataset, we realize that the columns of rain and snow 1 hour on the cluster graphs we made have very little use or info to extract from because most of the time the column is equal to 0. So we will rid of these columns."
   ]
  },
  {
   "cell_type": "code",
   "execution_count": 10,
   "id": "627749ac",
   "metadata": {},
   "outputs": [
    {
     "data": {
      "text/plain": [
       "holiday                   12\n",
       "temp                    5843\n",
       "clouds_all                60\n",
       "weather_main              11\n",
       "weather_description       27\n",
       "date_time              40575\n",
       "traffic_volume          6704\n",
       "dtype: int64"
      ]
     },
     "execution_count": 10,
     "metadata": {},
     "output_type": "execute_result"
    }
   ],
   "source": [
    "df_cleaned = df_cleaned.copy().drop(['rain_1h','snow_1h'], axis=1)\n",
    "df_cleaned.nunique(axis=0)"
   ]
  },
  {
   "cell_type": "markdown",
   "id": "8569f215",
   "metadata": {},
   "source": [
    "Now the next step in the EDA is to rid of some outliers, like in the temp category and others. We also wanted to split the column date_time into two seprate columns instead of one."
   ]
  },
  {
   "cell_type": "code",
   "execution_count": 11,
   "id": "45742c11",
   "metadata": {},
   "outputs": [
    {
     "data": {
      "text/html": [
       "<div>\n",
       "<style scoped>\n",
       "    .dataframe tbody tr th:only-of-type {\n",
       "        vertical-align: middle;\n",
       "    }\n",
       "\n",
       "    .dataframe tbody tr th {\n",
       "        vertical-align: top;\n",
       "    }\n",
       "\n",
       "    .dataframe thead th {\n",
       "        text-align: right;\n",
       "    }\n",
       "</style>\n",
       "<table border=\"1\" class=\"dataframe\">\n",
       "  <thead>\n",
       "    <tr style=\"text-align: right;\">\n",
       "      <th></th>\n",
       "      <th>traffic_volume</th>\n",
       "      <th>temp</th>\n",
       "      <th>clouds_all</th>\n",
       "    </tr>\n",
       "  </thead>\n",
       "  <tbody>\n",
       "    <tr>\n",
       "      <th>count</th>\n",
       "      <td>16385.000000</td>\n",
       "      <td>16385.000000</td>\n",
       "      <td>16385.000000</td>\n",
       "    </tr>\n",
       "    <tr>\n",
       "      <th>mean</th>\n",
       "      <td>4065.435581</td>\n",
       "      <td>282.027789</td>\n",
       "      <td>50.580043</td>\n",
       "    </tr>\n",
       "    <tr>\n",
       "      <th>std</th>\n",
       "      <td>1484.969474</td>\n",
       "      <td>12.394793</td>\n",
       "      <td>38.886875</td>\n",
       "    </tr>\n",
       "    <tr>\n",
       "      <th>min</th>\n",
       "      <td>1001.000000</td>\n",
       "      <td>250.010000</td>\n",
       "      <td>0.000000</td>\n",
       "    </tr>\n",
       "    <tr>\n",
       "      <th>25%</th>\n",
       "      <td>2902.000000</td>\n",
       "      <td>272.950000</td>\n",
       "      <td>1.000000</td>\n",
       "    </tr>\n",
       "    <tr>\n",
       "      <th>50%</th>\n",
       "      <td>4351.000000</td>\n",
       "      <td>282.950000</td>\n",
       "      <td>75.000000</td>\n",
       "    </tr>\n",
       "    <tr>\n",
       "      <th>75%</th>\n",
       "      <td>5165.000000</td>\n",
       "      <td>292.290000</td>\n",
       "      <td>90.000000</td>\n",
       "    </tr>\n",
       "    <tr>\n",
       "      <th>max</th>\n",
       "      <td>7280.000000</td>\n",
       "      <td>310.070000</td>\n",
       "      <td>100.000000</td>\n",
       "    </tr>\n",
       "  </tbody>\n",
       "</table>\n",
       "</div>"
      ],
      "text/plain": [
       "      traffic_volume          temp    clouds_all\n",
       "count   16385.000000  16385.000000  16385.000000\n",
       "mean     4065.435581    282.027789     50.580043\n",
       "std      1484.969474     12.394793     38.886875\n",
       "min      1001.000000    250.010000      0.000000\n",
       "25%      2902.000000    272.950000      1.000000\n",
       "50%      4351.000000    282.950000     75.000000\n",
       "75%      5165.000000    292.290000     90.000000\n",
       "max      7280.000000    310.070000    100.000000"
      ]
     },
     "execution_count": 11,
     "metadata": {},
     "output_type": "execute_result"
    }
   ],
   "source": [
    "df_cleaned = df_cleaned[df_cleaned['temp'].between(250.00, 312.00)]\n",
    "df_cleaned = df_cleaned[df_cleaned['traffic_volume'] > 1000]\n",
    "df_cleaned = df_cleaned[df_cleaned['date_time'] > '2016-09-29 23:00:00']\n",
    "\n",
    "column_to_move = df_cleaned.pop('traffic_volume')\n",
    "df_cleaned.insert(0, 'traffic_volume', column_to_move)\n",
    "df_cleaned[['date' ,'time']] = df_cleaned.date_time.str.split(expand=True)\n",
    "df_cleaned = df_cleaned.drop('date_time', axis=1)\n",
    "\n",
    "df_cleaned.describe().apply(lambda s: s.apply(lambda x: format(x, 'f')))"
   ]
  },
  {
   "cell_type": "markdown",
   "id": "e56f837d",
   "metadata": {},
   "source": [
    "Now we will see the brand new cleaned dataset that we will work with on the main part."
   ]
  },
  {
   "cell_type": "code",
   "execution_count": 12,
   "id": "d4bc5f2b",
   "metadata": {},
   "outputs": [
    {
     "data": {
      "text/html": [
       "<div>\n",
       "<style scoped>\n",
       "    .dataframe tbody tr th:only-of-type {\n",
       "        vertical-align: middle;\n",
       "    }\n",
       "\n",
       "    .dataframe tbody tr th {\n",
       "        vertical-align: top;\n",
       "    }\n",
       "\n",
       "    .dataframe thead th {\n",
       "        text-align: right;\n",
       "    }\n",
       "</style>\n",
       "<table border=\"1\" class=\"dataframe\">\n",
       "  <thead>\n",
       "    <tr style=\"text-align: right;\">\n",
       "      <th></th>\n",
       "      <th>traffic_volume</th>\n",
       "      <th>holiday</th>\n",
       "      <th>temp</th>\n",
       "      <th>clouds_all</th>\n",
       "      <th>weather_main</th>\n",
       "      <th>weather_description</th>\n",
       "      <th>date</th>\n",
       "      <th>time</th>\n",
       "      <th>hour</th>\n",
       "      <th>holiday_val</th>\n",
       "    </tr>\n",
       "  </thead>\n",
       "  <tbody>\n",
       "    <tr>\n",
       "      <th>26990</th>\n",
       "      <td>2588</td>\n",
       "      <td>None</td>\n",
       "      <td>283.23</td>\n",
       "      <td>0</td>\n",
       "      <td>Clear</td>\n",
       "      <td>clear</td>\n",
       "      <td>2016-09-30</td>\n",
       "      <td>05:00:00</td>\n",
       "      <td>5</td>\n",
       "      <td>0</td>\n",
       "    </tr>\n",
       "    <tr>\n",
       "      <th>26991</th>\n",
       "      <td>5522</td>\n",
       "      <td>None</td>\n",
       "      <td>283.02</td>\n",
       "      <td>0</td>\n",
       "      <td>Clear</td>\n",
       "      <td>clear</td>\n",
       "      <td>2016-09-30</td>\n",
       "      <td>06:00:00</td>\n",
       "      <td>6</td>\n",
       "      <td>0</td>\n",
       "    </tr>\n",
       "    <tr>\n",
       "      <th>26992</th>\n",
       "      <td>6301</td>\n",
       "      <td>None</td>\n",
       "      <td>283.17</td>\n",
       "      <td>0</td>\n",
       "      <td>Clear</td>\n",
       "      <td>clear</td>\n",
       "      <td>2016-09-30</td>\n",
       "      <td>07:00:00</td>\n",
       "      <td>7</td>\n",
       "      <td>0</td>\n",
       "    </tr>\n",
       "    <tr>\n",
       "      <th>26993</th>\n",
       "      <td>5267</td>\n",
       "      <td>None</td>\n",
       "      <td>283.68</td>\n",
       "      <td>0</td>\n",
       "      <td>Clear</td>\n",
       "      <td>clear</td>\n",
       "      <td>2016-09-30</td>\n",
       "      <td>08:00:00</td>\n",
       "      <td>8</td>\n",
       "      <td>0</td>\n",
       "    </tr>\n",
       "    <tr>\n",
       "      <th>26994</th>\n",
       "      <td>4692</td>\n",
       "      <td>None</td>\n",
       "      <td>284.03</td>\n",
       "      <td>0</td>\n",
       "      <td>Clear</td>\n",
       "      <td>clear</td>\n",
       "      <td>2016-09-30</td>\n",
       "      <td>09:00:00</td>\n",
       "      <td>9</td>\n",
       "      <td>0</td>\n",
       "    </tr>\n",
       "    <tr>\n",
       "      <th>...</th>\n",
       "      <td>...</td>\n",
       "      <td>...</td>\n",
       "      <td>...</td>\n",
       "      <td>...</td>\n",
       "      <td>...</td>\n",
       "      <td>...</td>\n",
       "      <td>...</td>\n",
       "      <td>...</td>\n",
       "      <td>...</td>\n",
       "      <td>...</td>\n",
       "    </tr>\n",
       "    <tr>\n",
       "      <th>48198</th>\n",
       "      <td>3947</td>\n",
       "      <td>None</td>\n",
       "      <td>284.20</td>\n",
       "      <td>75</td>\n",
       "      <td>Rain</td>\n",
       "      <td>light rain</td>\n",
       "      <td>2018-09-30</td>\n",
       "      <td>18:00:00</td>\n",
       "      <td>18</td>\n",
       "      <td>0</td>\n",
       "    </tr>\n",
       "    <tr>\n",
       "      <th>48199</th>\n",
       "      <td>3543</td>\n",
       "      <td>None</td>\n",
       "      <td>283.45</td>\n",
       "      <td>75</td>\n",
       "      <td>Clouds</td>\n",
       "      <td>broken clouds</td>\n",
       "      <td>2018-09-30</td>\n",
       "      <td>19:00:00</td>\n",
       "      <td>19</td>\n",
       "      <td>0</td>\n",
       "    </tr>\n",
       "    <tr>\n",
       "      <th>48200</th>\n",
       "      <td>2781</td>\n",
       "      <td>None</td>\n",
       "      <td>282.76</td>\n",
       "      <td>90</td>\n",
       "      <td>Clouds</td>\n",
       "      <td>overcast clouds</td>\n",
       "      <td>2018-09-30</td>\n",
       "      <td>20:00:00</td>\n",
       "      <td>20</td>\n",
       "      <td>0</td>\n",
       "    </tr>\n",
       "    <tr>\n",
       "      <th>48201</th>\n",
       "      <td>2159</td>\n",
       "      <td>None</td>\n",
       "      <td>282.73</td>\n",
       "      <td>90</td>\n",
       "      <td>Thunderstorm</td>\n",
       "      <td>proximity thunderstorm</td>\n",
       "      <td>2018-09-30</td>\n",
       "      <td>21:00:00</td>\n",
       "      <td>21</td>\n",
       "      <td>0</td>\n",
       "    </tr>\n",
       "    <tr>\n",
       "      <th>48202</th>\n",
       "      <td>1450</td>\n",
       "      <td>None</td>\n",
       "      <td>282.09</td>\n",
       "      <td>90</td>\n",
       "      <td>Clouds</td>\n",
       "      <td>overcast clouds</td>\n",
       "      <td>2018-09-30</td>\n",
       "      <td>22:00:00</td>\n",
       "      <td>22</td>\n",
       "      <td>0</td>\n",
       "    </tr>\n",
       "  </tbody>\n",
       "</table>\n",
       "<p>16385 rows × 10 columns</p>\n",
       "</div>"
      ],
      "text/plain": [
       "       traffic_volume holiday    temp  clouds_all  weather_main  \\\n",
       "26990            2588    None  283.23           0         Clear   \n",
       "26991            5522    None  283.02           0         Clear   \n",
       "26992            6301    None  283.17           0         Clear   \n",
       "26993            5267    None  283.68           0         Clear   \n",
       "26994            4692    None  284.03           0         Clear   \n",
       "...               ...     ...     ...         ...           ...   \n",
       "48198            3947    None  284.20          75          Rain   \n",
       "48199            3543    None  283.45          75        Clouds   \n",
       "48200            2781    None  282.76          90        Clouds   \n",
       "48201            2159    None  282.73          90  Thunderstorm   \n",
       "48202            1450    None  282.09          90        Clouds   \n",
       "\n",
       "          weather_description        date      time  hour  holiday_val  \n",
       "26990                   clear  2016-09-30  05:00:00     5            0  \n",
       "26991                   clear  2016-09-30  06:00:00     6            0  \n",
       "26992                   clear  2016-09-30  07:00:00     7            0  \n",
       "26993                   clear  2016-09-30  08:00:00     8            0  \n",
       "26994                   clear  2016-09-30  09:00:00     9            0  \n",
       "...                       ...         ...       ...   ...          ...  \n",
       "48198              light rain  2018-09-30  18:00:00    18            0  \n",
       "48199           broken clouds  2018-09-30  19:00:00    19            0  \n",
       "48200         overcast clouds  2018-09-30  20:00:00    20            0  \n",
       "48201  proximity thunderstorm  2018-09-30  21:00:00    21            0  \n",
       "48202         overcast clouds  2018-09-30  22:00:00    22            0  \n",
       "\n",
       "[16385 rows x 10 columns]"
      ]
     },
     "execution_count": 12,
     "metadata": {},
     "output_type": "execute_result"
    }
   ],
   "source": [
    "#makes a new column hour that stores the time as a number 0-23\n",
    "df_cleaned['hour'] = pd.to_datetime(df_cleaned['time'], format='%H:%M:%S')\n",
    "df_cleaned['hour'] = df_cleaned['hour'].dt.hour\n",
    "#makes a new column holiday_val taht stores the values of the holiday based on the mapping bellow\n",
    "unique_holidays = df_cleaned['holiday'].unique()\n",
    "holiday_mapping = {\n",
    "    'None': 0,\n",
    "    'New Years Day': 1,\n",
    "    'Memorial Day': 2,\n",
    "    'Independence Day': 3,\n",
    "    'Labor Day': 4,\n",
    "    'Thanksgiving Day': 5,\n",
    "    'Christmas Day': 6\n",
    "}\n",
    "\n",
    "# apply the mapping to the 'holiday' column and create a new column 'holiday_val'\n",
    "df_cleaned['holiday_val'] = df_cleaned['holiday'].map(holiday_mapping)\n",
    "\n",
    "# print the unique values\n",
    "#print(unique_holidays)\n",
    "\n",
    "df_cleaned"
   ]
  },
  {
   "cell_type": "markdown",
   "id": "a99664b8",
   "metadata": {},
   "source": [
    "Now that the dataset has been cleaned we can perform some basic exploratory data analysis to see what we're dealing with. We can start with some bar graphs showing the correleation between traffic volume and the other variables in the dataset.\n",
    "\n",
    "To start, it seems like holidays have, on average, significantly lower traffic volume than non-holidays. Although this makes sense, the dataset only contains several entries of holidays, so the sample size isn't very large."
   ]
  },
  {
   "cell_type": "code",
   "execution_count": 13,
   "id": "281db620",
   "metadata": {},
   "outputs": [
    {
     "data": {
      "text/plain": [
       "<AxesSubplot:xlabel='holiday'>"
      ]
     },
     "execution_count": 13,
     "metadata": {},
     "output_type": "execute_result"
    },
    {
     "data": {
      "image/png": "[encoded data removed]",
      "text/plain": [
       "<Figure size 640x480 with 1 Axes>"
      ]
     },
     "metadata": {},
     "output_type": "display_data"
    }
   ],
   "source": [
    "df_pt = df_cleaned.pivot_table(values='traffic_volume',index='holiday',aggfunc=np.mean)\n",
    "df_pt.plot(kind='bar')"
   ]
  },
  {
   "cell_type": "markdown",
   "id": "444267a8",
   "metadata": {},
   "source": [
    "Next, it appears that temperature and cloud coverage have little affect on traffic volume, although the does seem to be a small correlation between lower temperature and lower traffic volume on average."
   ]
  },
  {
   "cell_type": "code",
   "execution_count": 14,
   "id": "3c8fb5f4",
   "metadata": {},
   "outputs": [
    {
     "data": {
      "text/plain": [
       "<AxesSubplot:xlabel='temp_range'>"
      ]
     },
     "execution_count": 14,
     "metadata": {},
     "output_type": "execute_result"
    },
    {
     "data": {
      "image/png": "[encoded data removed]",
      "text/plain": [
       "<Figure size 640x480 with 1 Axes>"
      ]
     },
     "metadata": {},
     "output_type": "display_data"
    }
   ],
   "source": [
    "df_pt2 = df_cleaned\n",
    "df_pt2['temp_range'] = pd.cut(x=df_pt2['temp'], bins=[250,255,260,265,270,275,280,285,290])\n",
    "df_pt2.pivot_table(values='traffic_volume',index='temp_range',aggfunc=np.mean).plot(kind='bar')"
   ]
  },
  {
   "cell_type": "code",
   "execution_count": 15,
   "id": "045b3641",
   "metadata": {},
   "outputs": [
    {
     "data": {
      "text/plain": [
       "<AxesSubplot:xlabel='clouds_range'>"
      ]
     },
     "execution_count": 15,
     "metadata": {},
     "output_type": "execute_result"
    },
    {
     "data": {
      "image/png": "[encoded data removed]",
      "text/plain": [
       "<Figure size 640x480 with 1 Axes>"
      ]
     },
     "metadata": {},
     "output_type": "display_data"
    }
   ],
   "source": [
    "df_pt3 = df_cleaned\n",
    "df_pt3['clouds_range'] = pd.cut(x=df_pt3['clouds_all'], bins=[10, 20, 30, 40, 50, 60, 70, 80, 90, 100])\n",
    "#df_pt3['clouds_range'].value_counts()\n",
    "df_pt3.pivot_table(values='traffic_volume',index='clouds_range',aggfunc=np.mean).plot(kind='bar')"
   ]
  },
  {
   "cell_type": "code",
   "execution_count": 16,
   "id": "892b050f",
   "metadata": {},
   "outputs": [
    {
     "data": {
      "text/plain": [
       "<AxesSubplot:xlabel='weather_main'>"
      ]
     },
     "execution_count": 16,
     "metadata": {},
     "output_type": "execute_result"
    },
    {
     "data": {
      "image/png": "[encoded data removed]",
      "text/plain": [
       "<Figure size 640x480 with 1 Axes>"
      ]
     },
     "metadata": {},
     "output_type": "display_data"
    }
   ],
   "source": [
    "df_pt4 = df_cleaned.pivot_table(values='traffic_volume',index='weather_main',aggfunc=np.mean)\n",
    "df_pt4.plot(kind='bar')"
   ]
  },
  {
   "cell_type": "markdown",
   "id": "9a8e3f9f",
   "metadata": {},
   "source": [
    "As for weather, there tends to be lower traffic volume during light and heavy snowfall, whereas traffic volume seems mostly unaffected by other weather patterns."
   ]
  },
  {
   "cell_type": "code",
   "execution_count": 17,
   "id": "338f6282",
   "metadata": {},
   "outputs": [
    {
     "data": {
      "text/plain": [
       "<AxesSubplot:xlabel='weather_description'>"
      ]
     },
     "execution_count": 17,
     "metadata": {},
     "output_type": "execute_result"
    },
    {
     "data": {
      "image/png": "[encoded data removed]",
      "text/plain": [
       "<Figure size 640x480 with 1 Axes>"
      ]
     },
     "metadata": {},
     "output_type": "display_data"
    }
   ],
   "source": [
    "df_pt5 = df_cleaned.pivot_table(values='traffic_volume',index='weather_description',aggfunc=np.mean)\n",
    "df_pt5.plot(kind='bar')"
   ]
  },
  {
   "cell_type": "markdown",
   "id": "998c7267",
   "metadata": {},
   "source": [
    "Finally, time of day seems to have a very obvious impact on traffic volume. Late hours of the night have very reduced traffic volume, where as working hours of the day have much higher volume, with peaks occuring at the start and end hours of the day."
   ]
  },
  {
   "cell_type": "code",
   "execution_count": 18,
   "id": "db9bf7b9",
   "metadata": {},
   "outputs": [
    {
     "data": {
      "text/plain": [
       "<AxesSubplot:xlabel='time'>"
      ]
     },
     "execution_count": 18,
     "metadata": {},
     "output_type": "execute_result"
    },
    {
     "data": {
      "image/png": "[encoded data removed]",
      "text/plain": [
       "<Figure size 640x480 with 1 Axes>"
      ]
     },
     "metadata": {},
     "output_type": "display_data"
    }
   ],
   "source": [
    "df_pt6 = df_cleaned.pivot_table(values='traffic_volume',index='time',aggfunc=np.mean)\n",
    "df_pt6.plot(kind='bar')"
   ]
  },
  {
   "cell_type": "markdown",
   "id": "c8487303",
   "metadata": {},
   "source": [
    "## **Main Part**\n",
    "\n",
    "For our project, we are going to use K-Mean Clustering on our dataset to find clusters that show the attributes that have the most influence on metropolitan traffic. First, we will go through individual holidays by comparing the hour of the day and traffic volume. We will go through New Years Day, Christmas Day, and Independence Day."
   ]
  },
  {
   "cell_type": "code",
   "execution_count": 46,
   "id": "c6ab469a",
   "metadata": {},
   "outputs": [
    {
     "data": {
      "text/html": [
       "<div>\n",
       "<style scoped>\n",
       "    .dataframe tbody tr th:only-of-type {\n",
       "        vertical-align: middle;\n",
       "    }\n",
       "\n",
       "    .dataframe tbody tr th {\n",
       "        vertical-align: top;\n",
       "    }\n",
       "\n",
       "    .dataframe thead th {\n",
       "        text-align: right;\n",
       "    }\n",
       "</style>\n",
       "<table border=\"1\" class=\"dataframe\">\n",
       "  <thead>\n",
       "    <tr style=\"text-align: right;\">\n",
       "      <th></th>\n",
       "      <th>hour</th>\n",
       "      <th>traffic_volume</th>\n",
       "    </tr>\n",
       "    <tr>\n",
       "      <th>date</th>\n",
       "      <th></th>\n",
       "      <th></th>\n",
       "    </tr>\n",
       "  </thead>\n",
       "  <tbody>\n",
       "    <tr>\n",
       "      <th>2017-01-01</th>\n",
       "      <td>0</td>\n",
       "      <td>1848</td>\n",
       "    </tr>\n",
       "    <tr>\n",
       "      <th>2017-01-01</th>\n",
       "      <td>1</td>\n",
       "      <td>1806</td>\n",
       "    </tr>\n",
       "    <tr>\n",
       "      <th>2017-01-01</th>\n",
       "      <td>2</td>\n",
       "      <td>1211</td>\n",
       "    </tr>\n",
       "    <tr>\n",
       "      <th>2017-01-01</th>\n",
       "      <td>8</td>\n",
       "      <td>1284</td>\n",
       "    </tr>\n",
       "    <tr>\n",
       "      <th>2017-01-01</th>\n",
       "      <td>9</td>\n",
       "      <td>2279</td>\n",
       "    </tr>\n",
       "    <tr>\n",
       "      <th>2017-01-01</th>\n",
       "      <td>10</td>\n",
       "      <td>3592</td>\n",
       "    </tr>\n",
       "    <tr>\n",
       "      <th>2017-01-01</th>\n",
       "      <td>11</td>\n",
       "      <td>3500</td>\n",
       "    </tr>\n",
       "    <tr>\n",
       "      <th>2017-01-01</th>\n",
       "      <td>12</td>\n",
       "      <td>3364</td>\n",
       "    </tr>\n",
       "    <tr>\n",
       "      <th>2017-01-01</th>\n",
       "      <td>13</td>\n",
       "      <td>3252</td>\n",
       "    </tr>\n",
       "    <tr>\n",
       "      <th>2017-01-01</th>\n",
       "      <td>14</td>\n",
       "      <td>3431</td>\n",
       "    </tr>\n",
       "    <tr>\n",
       "      <th>2017-01-01</th>\n",
       "      <td>15</td>\n",
       "      <td>3585</td>\n",
       "    </tr>\n",
       "    <tr>\n",
       "      <th>2017-01-01</th>\n",
       "      <td>16</td>\n",
       "      <td>3594</td>\n",
       "    </tr>\n",
       "    <tr>\n",
       "      <th>2017-01-01</th>\n",
       "      <td>17</td>\n",
       "      <td>3133</td>\n",
       "    </tr>\n",
       "    <tr>\n",
       "      <th>2017-01-01</th>\n",
       "      <td>18</td>\n",
       "      <td>2955</td>\n",
       "    </tr>\n",
       "    <tr>\n",
       "      <th>2017-01-01</th>\n",
       "      <td>19</td>\n",
       "      <td>2412</td>\n",
       "    </tr>\n",
       "    <tr>\n",
       "      <th>2017-01-01</th>\n",
       "      <td>20</td>\n",
       "      <td>1981</td>\n",
       "    </tr>\n",
       "    <tr>\n",
       "      <th>2017-01-01</th>\n",
       "      <td>21</td>\n",
       "      <td>1777</td>\n",
       "    </tr>\n",
       "    <tr>\n",
       "      <th>2017-01-01</th>\n",
       "      <td>22</td>\n",
       "      <td>1438</td>\n",
       "    </tr>\n",
       "    <tr>\n",
       "      <th>2017-01-01</th>\n",
       "      <td>23</td>\n",
       "      <td>1043</td>\n",
       "    </tr>\n",
       "  </tbody>\n",
       "</table>\n",
       "</div>"
      ],
      "text/plain": [
       "            hour  traffic_volume\n",
       "date                            \n",
       "2017-01-01     0            1848\n",
       "2017-01-01     1            1806\n",
       "2017-01-01     2            1211\n",
       "2017-01-01     8            1284\n",
       "2017-01-01     9            2279\n",
       "2017-01-01    10            3592\n",
       "2017-01-01    11            3500\n",
       "2017-01-01    12            3364\n",
       "2017-01-01    13            3252\n",
       "2017-01-01    14            3431\n",
       "2017-01-01    15            3585\n",
       "2017-01-01    16            3594\n",
       "2017-01-01    17            3133\n",
       "2017-01-01    18            2955\n",
       "2017-01-01    19            2412\n",
       "2017-01-01    20            1981\n",
       "2017-01-01    21            1777\n",
       "2017-01-01    22            1438\n",
       "2017-01-01    23            1043"
      ]
     },
     "execution_count": 46,
     "metadata": {},
     "output_type": "execute_result"
    }
   ],
   "source": [
    "test_df = pd.read_csv(\"Metro_Interstate_Traffic_Volume_Cleaned.csv\",index_col=\"date\")\n",
    "test_cluster1 = test_df.loc[\"2017-01-01\"]\n",
    "holiday1 = test_cluster1[['hour', 'traffic_volume']].copy()\n",
    "holiday1"
   ]
  },
  {
   "cell_type": "code",
   "execution_count": 47,
   "id": "079c11ce",
   "metadata": {},
   "outputs": [
    {
     "data": {
      "text/plain": [
       "array([0, 0, 2, 2, 0, 1, 1, 1, 1, 1, 1, 1, 1, 1, 0, 0, 0, 2, 2])"
      ]
     },
     "execution_count": 47,
     "metadata": {},
     "output_type": "execute_result"
    }
   ],
   "source": [
    "kmean = KMeans(3)\n",
    "kmean.fit(holiday1)\n",
    "identified_clusters = kmean.fit_predict(holiday1)\n",
    "identified_clusters"
   ]
  },
  {
   "cell_type": "code",
   "execution_count": 53,
   "id": "e8724cbc",
   "metadata": {},
   "outputs": [
    {
     "data": {
      "text/plain": [
       "<matplotlib.collections.PathCollection at 0x22e52abdfa0>"
      ]
     },
     "execution_count": 53,
     "metadata": {},
     "output_type": "execute_result"
    },
    {
     "data": {
      "image/png": "[encoded data removed]",
      "text/plain": [
       "<Figure size 640x480 with 1 Axes>"
      ]
     },
     "metadata": {},
     "output_type": "display_data"
    }
   ],
   "source": [
    "data_with_clusters = test_cluster1.copy()\n",
    "data_with_clusters['Clusters'] = identified_clusters \n",
    "plt.scatter(data_with_clusters['hour'],data_with_clusters['traffic_volume'],c=data_with_clusters['Clusters'],cmap='rainbow')"
   ]
  },
  {
   "cell_type": "code",
   "execution_count": 49,
   "id": "3cdb53dc",
   "metadata": {},
   "outputs": [
    {
     "data": {
      "text/html": [
       "<div>\n",
       "<style scoped>\n",
       "    .dataframe tbody tr th:only-of-type {\n",
       "        vertical-align: middle;\n",
       "    }\n",
       "\n",
       "    .dataframe tbody tr th {\n",
       "        vertical-align: top;\n",
       "    }\n",
       "\n",
       "    .dataframe thead th {\n",
       "        text-align: right;\n",
       "    }\n",
       "</style>\n",
       "<table border=\"1\" class=\"dataframe\">\n",
       "  <thead>\n",
       "    <tr style=\"text-align: right;\">\n",
       "      <th></th>\n",
       "      <th>hour</th>\n",
       "      <th>traffic_volume</th>\n",
       "    </tr>\n",
       "    <tr>\n",
       "      <th>date</th>\n",
       "      <th></th>\n",
       "      <th></th>\n",
       "    </tr>\n",
       "  </thead>\n",
       "  <tbody>\n",
       "    <tr>\n",
       "      <th>2017-12-25</th>\n",
       "      <td>0</td>\n",
       "      <td>1092</td>\n",
       "    </tr>\n",
       "    <tr>\n",
       "      <th>2017-12-25</th>\n",
       "      <td>8</td>\n",
       "      <td>1260</td>\n",
       "    </tr>\n",
       "    <tr>\n",
       "      <th>2017-12-25</th>\n",
       "      <td>8</td>\n",
       "      <td>1260</td>\n",
       "    </tr>\n",
       "    <tr>\n",
       "      <th>2017-12-25</th>\n",
       "      <td>9</td>\n",
       "      <td>1760</td>\n",
       "    </tr>\n",
       "    <tr>\n",
       "      <th>2017-12-25</th>\n",
       "      <td>10</td>\n",
       "      <td>2292</td>\n",
       "    </tr>\n",
       "    <tr>\n",
       "      <th>2017-12-25</th>\n",
       "      <td>11</td>\n",
       "      <td>2653</td>\n",
       "    </tr>\n",
       "    <tr>\n",
       "      <th>2017-12-25</th>\n",
       "      <td>12</td>\n",
       "      <td>2957</td>\n",
       "    </tr>\n",
       "    <tr>\n",
       "      <th>2017-12-25</th>\n",
       "      <td>13</td>\n",
       "      <td>2983</td>\n",
       "    </tr>\n",
       "    <tr>\n",
       "      <th>2017-12-25</th>\n",
       "      <td>14</td>\n",
       "      <td>2850</td>\n",
       "    </tr>\n",
       "    <tr>\n",
       "      <th>2017-12-25</th>\n",
       "      <td>15</td>\n",
       "      <td>2732</td>\n",
       "    </tr>\n",
       "    <tr>\n",
       "      <th>2017-12-25</th>\n",
       "      <td>16</td>\n",
       "      <td>3045</td>\n",
       "    </tr>\n",
       "    <tr>\n",
       "      <th>2017-12-25</th>\n",
       "      <td>17</td>\n",
       "      <td>3134</td>\n",
       "    </tr>\n",
       "    <tr>\n",
       "      <th>2017-12-25</th>\n",
       "      <td>18</td>\n",
       "      <td>3172</td>\n",
       "    </tr>\n",
       "    <tr>\n",
       "      <th>2017-12-25</th>\n",
       "      <td>19</td>\n",
       "      <td>3100</td>\n",
       "    </tr>\n",
       "    <tr>\n",
       "      <th>2017-12-25</th>\n",
       "      <td>20</td>\n",
       "      <td>2875</td>\n",
       "    </tr>\n",
       "    <tr>\n",
       "      <th>2017-12-25</th>\n",
       "      <td>21</td>\n",
       "      <td>2404</td>\n",
       "    </tr>\n",
       "    <tr>\n",
       "      <th>2017-12-25</th>\n",
       "      <td>22</td>\n",
       "      <td>1798</td>\n",
       "    </tr>\n",
       "    <tr>\n",
       "      <th>2017-12-25</th>\n",
       "      <td>23</td>\n",
       "      <td>1147</td>\n",
       "    </tr>\n",
       "  </tbody>\n",
       "</table>\n",
       "</div>"
      ],
      "text/plain": [
       "            hour  traffic_volume\n",
       "date                            \n",
       "2017-12-25     0            1092\n",
       "2017-12-25     8            1260\n",
       "2017-12-25     8            1260\n",
       "2017-12-25     9            1760\n",
       "2017-12-25    10            2292\n",
       "2017-12-25    11            2653\n",
       "2017-12-25    12            2957\n",
       "2017-12-25    13            2983\n",
       "2017-12-25    14            2850\n",
       "2017-12-25    15            2732\n",
       "2017-12-25    16            3045\n",
       "2017-12-25    17            3134\n",
       "2017-12-25    18            3172\n",
       "2017-12-25    19            3100\n",
       "2017-12-25    20            2875\n",
       "2017-12-25    21            2404\n",
       "2017-12-25    22            1798\n",
       "2017-12-25    23            1147"
      ]
     },
     "execution_count": 49,
     "metadata": {},
     "output_type": "execute_result"
    }
   ],
   "source": [
    "test_cluster2 = test_df.loc[\"2017-12-25\"]\n",
    "holiday2 = test_cluster2[['hour', 'traffic_volume']].copy()\n",
    "holiday2"
   ]
  },
  {
   "cell_type": "code",
   "execution_count": 50,
   "id": "80300f50",
   "metadata": {},
   "outputs": [
    {
     "data": {
      "text/plain": [
       "array([2, 2, 2, 1, 1, 0, 0, 0, 0, 0, 0, 0, 0, 0, 0, 1, 1, 2])"
      ]
     },
     "execution_count": 50,
     "metadata": {},
     "output_type": "execute_result"
    }
   ],
   "source": [
    "kmean = KMeans(3)\n",
    "kmean.fit(holiday2)\n",
    "identified_clusters2 = kmean.fit_predict(holiday2)\n",
    "identified_clusters2"
   ]
  },
  {
   "cell_type": "code",
   "execution_count": 54,
   "id": "72f2858d",
   "metadata": {},
   "outputs": [
    {
     "data": {
      "text/plain": [
       "<matplotlib.collections.PathCollection at 0x22e5403fb80>"
      ]
     },
     "execution_count": 54,
     "metadata": {},
     "output_type": "execute_result"
    },
    {
     "data": {
      "image/png": "[encoded data removed]",
      "text/plain": [
       "<Figure size 640x480 with 1 Axes>"
      ]
     },
     "metadata": {},
     "output_type": "display_data"
    }
   ],
   "source": [
    "data_with_clusters2 = test_cluster2.copy()\n",
    "data_with_clusters2['Clusters2'] = identified_clusters2\n",
    "plt.scatter(data_with_clusters2['hour'],data_with_clusters2['traffic_volume'],c=data_with_clusters2['Clusters2'],cmap='rainbow')"
   ]
  },
  {
   "cell_type": "code",
   "execution_count": 55,
   "id": "4284159d",
   "metadata": {},
   "outputs": [
    {
     "data": {
      "text/html": [
       "<div>\n",
       "<style scoped>\n",
       "    .dataframe tbody tr th:only-of-type {\n",
       "        vertical-align: middle;\n",
       "    }\n",
       "\n",
       "    .dataframe tbody tr th {\n",
       "        vertical-align: top;\n",
       "    }\n",
       "\n",
       "    .dataframe thead th {\n",
       "        text-align: right;\n",
       "    }\n",
       "</style>\n",
       "<table border=\"1\" class=\"dataframe\">\n",
       "  <thead>\n",
       "    <tr style=\"text-align: right;\">\n",
       "      <th></th>\n",
       "      <th>hour</th>\n",
       "      <th>traffic_volume</th>\n",
       "    </tr>\n",
       "    <tr>\n",
       "      <th>date</th>\n",
       "      <th></th>\n",
       "      <th></th>\n",
       "    </tr>\n",
       "  </thead>\n",
       "  <tbody>\n",
       "    <tr>\n",
       "      <th>2017-07-04</th>\n",
       "      <td>0</td>\n",
       "      <td>1225</td>\n",
       "    </tr>\n",
       "    <tr>\n",
       "      <th>2017-07-04</th>\n",
       "      <td>6</td>\n",
       "      <td>1125</td>\n",
       "    </tr>\n",
       "    <tr>\n",
       "      <th>2017-07-04</th>\n",
       "      <td>7</td>\n",
       "      <td>1091</td>\n",
       "    </tr>\n",
       "    <tr>\n",
       "      <th>2017-07-04</th>\n",
       "      <td>8</td>\n",
       "      <td>1333</td>\n",
       "    </tr>\n",
       "    <tr>\n",
       "      <th>2017-07-04</th>\n",
       "      <td>9</td>\n",
       "      <td>1939</td>\n",
       "    </tr>\n",
       "    <tr>\n",
       "      <th>2017-07-04</th>\n",
       "      <td>10</td>\n",
       "      <td>2385</td>\n",
       "    </tr>\n",
       "    <tr>\n",
       "      <th>2017-07-04</th>\n",
       "      <td>11</td>\n",
       "      <td>2921</td>\n",
       "    </tr>\n",
       "    <tr>\n",
       "      <th>2017-07-04</th>\n",
       "      <td>12</td>\n",
       "      <td>3101</td>\n",
       "    </tr>\n",
       "    <tr>\n",
       "      <th>2017-07-04</th>\n",
       "      <td>13</td>\n",
       "      <td>3108</td>\n",
       "    </tr>\n",
       "    <tr>\n",
       "      <th>2017-07-04</th>\n",
       "      <td>14</td>\n",
       "      <td>3408</td>\n",
       "    </tr>\n",
       "    <tr>\n",
       "      <th>2017-07-04</th>\n",
       "      <td>15</td>\n",
       "      <td>3379</td>\n",
       "    </tr>\n",
       "    <tr>\n",
       "      <th>2017-07-04</th>\n",
       "      <td>16</td>\n",
       "      <td>3350</td>\n",
       "    </tr>\n",
       "    <tr>\n",
       "      <th>2017-07-04</th>\n",
       "      <td>17</td>\n",
       "      <td>3398</td>\n",
       "    </tr>\n",
       "    <tr>\n",
       "      <th>2017-07-04</th>\n",
       "      <td>18</td>\n",
       "      <td>2943</td>\n",
       "    </tr>\n",
       "    <tr>\n",
       "      <th>2017-07-04</th>\n",
       "      <td>19</td>\n",
       "      <td>2828</td>\n",
       "    </tr>\n",
       "    <tr>\n",
       "      <th>2017-07-04</th>\n",
       "      <td>20</td>\n",
       "      <td>2906</td>\n",
       "    </tr>\n",
       "    <tr>\n",
       "      <th>2017-07-04</th>\n",
       "      <td>21</td>\n",
       "      <td>2696</td>\n",
       "    </tr>\n",
       "    <tr>\n",
       "      <th>2017-07-04</th>\n",
       "      <td>22</td>\n",
       "      <td>2837</td>\n",
       "    </tr>\n",
       "    <tr>\n",
       "      <th>2017-07-04</th>\n",
       "      <td>23</td>\n",
       "      <td>2236</td>\n",
       "    </tr>\n",
       "  </tbody>\n",
       "</table>\n",
       "</div>"
      ],
      "text/plain": [
       "            hour  traffic_volume\n",
       "date                            \n",
       "2017-07-04     0            1225\n",
       "2017-07-04     6            1125\n",
       "2017-07-04     7            1091\n",
       "2017-07-04     8            1333\n",
       "2017-07-04     9            1939\n",
       "2017-07-04    10            2385\n",
       "2017-07-04    11            2921\n",
       "2017-07-04    12            3101\n",
       "2017-07-04    13            3108\n",
       "2017-07-04    14            3408\n",
       "2017-07-04    15            3379\n",
       "2017-07-04    16            3350\n",
       "2017-07-04    17            3398\n",
       "2017-07-04    18            2943\n",
       "2017-07-04    19            2828\n",
       "2017-07-04    20            2906\n",
       "2017-07-04    21            2696\n",
       "2017-07-04    22            2837\n",
       "2017-07-04    23            2236"
      ]
     },
     "execution_count": 55,
     "metadata": {},
     "output_type": "execute_result"
    }
   ],
   "source": [
    "test_cluster3 = test_df.loc[\"2017-07-04\"]\n",
    "holiday3 = test_cluster3[['hour', 'traffic_volume']].copy()\n",
    "holiday3"
   ]
  },
  {
   "cell_type": "code",
   "execution_count": 56,
   "id": "46e19903",
   "metadata": {},
   "outputs": [
    {
     "data": {
      "text/plain": [
       "array([1, 1, 1, 1, 2, 2, 0, 0, 0, 0, 0, 0, 0, 0, 0, 0, 0, 0, 2])"
      ]
     },
     "execution_count": 56,
     "metadata": {},
     "output_type": "execute_result"
    }
   ],
   "source": [
    "kmean3 = KMeans(3)\n",
    "kmean3.fit(holiday3)\n",
    "identified_clusters3 = kmean3.fit_predict(holiday3)\n",
    "identified_clusters3"
   ]
  },
  {
   "cell_type": "code",
   "execution_count": 57,
   "id": "9b3668a0",
   "metadata": {},
   "outputs": [
    {
     "data": {
      "text/plain": [
       "<matplotlib.collections.PathCollection at 0x22e541e6880>"
      ]
     },
     "execution_count": 57,
     "metadata": {},
     "output_type": "execute_result"
    },
    {
     "data": {
      "image/png": "[encoded data removed]",
      "text/plain": [
       "<Figure size 640x480 with 1 Axes>"
      ]
     },
     "metadata": {},
     "output_type": "display_data"
    }
   ],
   "source": [
    "data_with_clusters3 = test_cluster3.copy()\n",
    "data_with_clusters3['Clusters3'] = identified_clusters3 \n",
    "plt.scatter(data_with_clusters3['hour'],data_with_clusters3['traffic_volume'],c=data_with_clusters3['Clusters3'],cmap='rainbow')"
   ]
  },
  {
   "cell_type": "code",
   "execution_count": 26,
   "id": "3f436b33",
   "metadata": {},
   "outputs": [
    {
     "name": "stdout",
     "output_type": "stream",
     "text": [
      "       traffic_level  traffic_volume\n",
      "26990              0            2588\n",
      "26991              2            5522\n",
      "26992              2            6301\n",
      "26993              2            5267\n",
      "26994              1            4692\n",
      "...              ...             ...\n",
      "48198              1            3947\n",
      "48199              1            3543\n",
      "48200              0            2781\n",
      "48201              0            2159\n",
      "48202              0            1450\n",
      "\n",
      "[16385 rows x 2 columns]\n"
     ]
    },
    {
     "name": "stderr",
     "output_type": "stream",
     "text": [
      "C:\\Users\\garth\\anaconda3\\lib\\site-packages\\sklearn\\cluster\\_kmeans.py:1146: RuntimeWarning: Explicit initial center position passed: performing only one init in KMeans instead of n_init=10.\n",
      "  self._check_params(X)\n"
     ]
    },
    {
     "data": {
      "image/png": "[encoded data removed]",
      "text/plain": [
       "<Figure size 640x480 with 1 Axes>"
      ]
     },
     "metadata": {},
     "output_type": "display_data"
    }
   ],
   "source": [
    "#df['traffic_volume'] = df['traffic_volume'].astype(float)\n",
    "#kmeans = KMeans(n_clusters=3, random_state=0).fit(df['traffic_volume'])\n",
    "\n",
    "# add the cluster labels to the dataframe\n",
    "#df['traffic_level'] = kmeans.labels_\n",
    "from sklearn.cluster import KMeans\n",
    "df_use = df_cleaned\n",
    "# reshape the data to have two dimensions\n",
    "data = np.array(df_use['traffic_volume']).reshape(-1, 1)\n",
    "sorted_data = np.sort(df_use['traffic_volume'])\n",
    "initial_centroids = np.array([\n",
    "    [sorted_data[int(0 * len(sorted_data) / 100)]],\n",
    "    [sorted_data[int(50 * len(sorted_data) / 100)]],\n",
    "    [sorted_data[int(100 * (len(sorted_data)-1) / 100)]]\n",
    "])\n",
    "\n",
    "# fit KMeans model with specified initial centroids\n",
    "kmeans = KMeans(n_clusters=3, init=initial_centroids).fit(data)\n",
    "\n",
    "# add the cluster labels to the dataframe\n",
    "df_use['traffic_level'] = kmeans.labels_\n",
    "print(df_use[['traffic_level', 'traffic_volume']])\n",
    "# sort the DataFrame by 'traffic_volume' column\n",
    "df_use = df_use.sort_values('traffic_volume')\n",
    "\n",
    "# normalize the 'traffic_volume' column between 0 and 1\n",
    "df_use['normalized_traffic_volume'] = (df_use['traffic_volume'] - df_use['traffic_volume'].min()) / (df_use['traffic_volume'].max() - df['traffic_volume'].min())\n",
    "\n",
    "# plot the line chart\n",
    "plt.plot(df_use['normalized_traffic_volume'], df_use['traffic_level'])\n",
    "plt.xlabel('Normalized Traffic Volume')\n",
    "plt.ylabel('Traffic Level')\n",
    "plt.title('Traffic Level vs. Normalized Traffic Volume')\n",
    "plt.show()"
   ]
  },
  {
   "cell_type": "markdown",
   "id": "fb0dab17",
   "metadata": {},
   "source": [
    "(Its been moved to the finished EDA now)"
   ]
  },
  {
   "cell_type": "code",
   "execution_count": 27,
   "id": "e2b65186",
   "metadata": {},
   "outputs": [
    {
     "data": {
      "text/html": [
       "<div>\n",
       "<style scoped>\n",
       "    .dataframe tbody tr th:only-of-type {\n",
       "        vertical-align: middle;\n",
       "    }\n",
       "\n",
       "    .dataframe tbody tr th {\n",
       "        vertical-align: top;\n",
       "    }\n",
       "\n",
       "    .dataframe thead th {\n",
       "        text-align: right;\n",
       "    }\n",
       "</style>\n",
       "<table border=\"1\" class=\"dataframe\">\n",
       "  <thead>\n",
       "    <tr style=\"text-align: right;\">\n",
       "      <th></th>\n",
       "      <th>traffic_volume</th>\n",
       "      <th>holiday</th>\n",
       "      <th>temp</th>\n",
       "      <th>clouds_all</th>\n",
       "      <th>weather_main</th>\n",
       "      <th>weather_description</th>\n",
       "      <th>date</th>\n",
       "      <th>time</th>\n",
       "      <th>hour</th>\n",
       "      <th>holiday_val</th>\n",
       "      <th>temp_range</th>\n",
       "      <th>clouds_range</th>\n",
       "      <th>traffic_level</th>\n",
       "    </tr>\n",
       "  </thead>\n",
       "  <tbody>\n",
       "    <tr>\n",
       "      <th>26990</th>\n",
       "      <td>2588</td>\n",
       "      <td>None</td>\n",
       "      <td>283.23</td>\n",
       "      <td>0</td>\n",
       "      <td>Clear</td>\n",
       "      <td>clear</td>\n",
       "      <td>2016-09-30</td>\n",
       "      <td>05:00:00</td>\n",
       "      <td>5</td>\n",
       "      <td>0</td>\n",
       "      <td>(280, 285]</td>\n",
       "      <td>NaN</td>\n",
       "      <td>0</td>\n",
       "    </tr>\n",
       "    <tr>\n",
       "      <th>26991</th>\n",
       "      <td>5522</td>\n",
       "      <td>None</td>\n",
       "      <td>283.02</td>\n",
       "      <td>0</td>\n",
       "      <td>Clear</td>\n",
       "      <td>clear</td>\n",
       "      <td>2016-09-30</td>\n",
       "      <td>06:00:00</td>\n",
       "      <td>6</td>\n",
       "      <td>0</td>\n",
       "      <td>(280, 285]</td>\n",
       "      <td>NaN</td>\n",
       "      <td>2</td>\n",
       "    </tr>\n",
       "    <tr>\n",
       "      <th>26992</th>\n",
       "      <td>6301</td>\n",
       "      <td>None</td>\n",
       "      <td>283.17</td>\n",
       "      <td>0</td>\n",
       "      <td>Clear</td>\n",
       "      <td>clear</td>\n",
       "      <td>2016-09-30</td>\n",
       "      <td>07:00:00</td>\n",
       "      <td>7</td>\n",
       "      <td>0</td>\n",
       "      <td>(280, 285]</td>\n",
       "      <td>NaN</td>\n",
       "      <td>2</td>\n",
       "    </tr>\n",
       "    <tr>\n",
       "      <th>26993</th>\n",
       "      <td>5267</td>\n",
       "      <td>None</td>\n",
       "      <td>283.68</td>\n",
       "      <td>0</td>\n",
       "      <td>Clear</td>\n",
       "      <td>clear</td>\n",
       "      <td>2016-09-30</td>\n",
       "      <td>08:00:00</td>\n",
       "      <td>8</td>\n",
       "      <td>0</td>\n",
       "      <td>(280, 285]</td>\n",
       "      <td>NaN</td>\n",
       "      <td>2</td>\n",
       "    </tr>\n",
       "    <tr>\n",
       "      <th>26994</th>\n",
       "      <td>4692</td>\n",
       "      <td>None</td>\n",
       "      <td>284.03</td>\n",
       "      <td>0</td>\n",
       "      <td>Clear</td>\n",
       "      <td>clear</td>\n",
       "      <td>2016-09-30</td>\n",
       "      <td>09:00:00</td>\n",
       "      <td>9</td>\n",
       "      <td>0</td>\n",
       "      <td>(280, 285]</td>\n",
       "      <td>NaN</td>\n",
       "      <td>1</td>\n",
       "    </tr>\n",
       "    <tr>\n",
       "      <th>...</th>\n",
       "      <td>...</td>\n",
       "      <td>...</td>\n",
       "      <td>...</td>\n",
       "      <td>...</td>\n",
       "      <td>...</td>\n",
       "      <td>...</td>\n",
       "      <td>...</td>\n",
       "      <td>...</td>\n",
       "      <td>...</td>\n",
       "      <td>...</td>\n",
       "      <td>...</td>\n",
       "      <td>...</td>\n",
       "      <td>...</td>\n",
       "    </tr>\n",
       "    <tr>\n",
       "      <th>48198</th>\n",
       "      <td>3947</td>\n",
       "      <td>None</td>\n",
       "      <td>284.20</td>\n",
       "      <td>75</td>\n",
       "      <td>Rain</td>\n",
       "      <td>light rain</td>\n",
       "      <td>2018-09-30</td>\n",
       "      <td>18:00:00</td>\n",
       "      <td>18</td>\n",
       "      <td>0</td>\n",
       "      <td>(280, 285]</td>\n",
       "      <td>(70.0, 80.0]</td>\n",
       "      <td>1</td>\n",
       "    </tr>\n",
       "    <tr>\n",
       "      <th>48199</th>\n",
       "      <td>3543</td>\n",
       "      <td>None</td>\n",
       "      <td>283.45</td>\n",
       "      <td>75</td>\n",
       "      <td>Clouds</td>\n",
       "      <td>broken clouds</td>\n",
       "      <td>2018-09-30</td>\n",
       "      <td>19:00:00</td>\n",
       "      <td>19</td>\n",
       "      <td>0</td>\n",
       "      <td>(280, 285]</td>\n",
       "      <td>(70.0, 80.0]</td>\n",
       "      <td>1</td>\n",
       "    </tr>\n",
       "    <tr>\n",
       "      <th>48200</th>\n",
       "      <td>2781</td>\n",
       "      <td>None</td>\n",
       "      <td>282.76</td>\n",
       "      <td>90</td>\n",
       "      <td>Clouds</td>\n",
       "      <td>overcast clouds</td>\n",
       "      <td>2018-09-30</td>\n",
       "      <td>20:00:00</td>\n",
       "      <td>20</td>\n",
       "      <td>0</td>\n",
       "      <td>(280, 285]</td>\n",
       "      <td>(80.0, 90.0]</td>\n",
       "      <td>0</td>\n",
       "    </tr>\n",
       "    <tr>\n",
       "      <th>48201</th>\n",
       "      <td>2159</td>\n",
       "      <td>None</td>\n",
       "      <td>282.73</td>\n",
       "      <td>90</td>\n",
       "      <td>Thunderstorm</td>\n",
       "      <td>proximity thunderstorm</td>\n",
       "      <td>2018-09-30</td>\n",
       "      <td>21:00:00</td>\n",
       "      <td>21</td>\n",
       "      <td>0</td>\n",
       "      <td>(280, 285]</td>\n",
       "      <td>(80.0, 90.0]</td>\n",
       "      <td>0</td>\n",
       "    </tr>\n",
       "    <tr>\n",
       "      <th>48202</th>\n",
       "      <td>1450</td>\n",
       "      <td>None</td>\n",
       "      <td>282.09</td>\n",
       "      <td>90</td>\n",
       "      <td>Clouds</td>\n",
       "      <td>overcast clouds</td>\n",
       "      <td>2018-09-30</td>\n",
       "      <td>22:00:00</td>\n",
       "      <td>22</td>\n",
       "      <td>0</td>\n",
       "      <td>(280, 285]</td>\n",
       "      <td>(80.0, 90.0]</td>\n",
       "      <td>0</td>\n",
       "    </tr>\n",
       "  </tbody>\n",
       "</table>\n",
       "<p>16385 rows × 13 columns</p>\n",
       "</div>"
      ],
      "text/plain": [
       "       traffic_volume holiday    temp  clouds_all  weather_main  \\\n",
       "26990            2588    None  283.23           0         Clear   \n",
       "26991            5522    None  283.02           0         Clear   \n",
       "26992            6301    None  283.17           0         Clear   \n",
       "26993            5267    None  283.68           0         Clear   \n",
       "26994            4692    None  284.03           0         Clear   \n",
       "...               ...     ...     ...         ...           ...   \n",
       "48198            3947    None  284.20          75          Rain   \n",
       "48199            3543    None  283.45          75        Clouds   \n",
       "48200            2781    None  282.76          90        Clouds   \n",
       "48201            2159    None  282.73          90  Thunderstorm   \n",
       "48202            1450    None  282.09          90        Clouds   \n",
       "\n",
       "          weather_description        date      time  hour  holiday_val  \\\n",
       "26990                   clear  2016-09-30  05:00:00     5            0   \n",
       "26991                   clear  2016-09-30  06:00:00     6            0   \n",
       "26992                   clear  2016-09-30  07:00:00     7            0   \n",
       "26993                   clear  2016-09-30  08:00:00     8            0   \n",
       "26994                   clear  2016-09-30  09:00:00     9            0   \n",
       "...                       ...         ...       ...   ...          ...   \n",
       "48198              light rain  2018-09-30  18:00:00    18            0   \n",
       "48199           broken clouds  2018-09-30  19:00:00    19            0   \n",
       "48200         overcast clouds  2018-09-30  20:00:00    20            0   \n",
       "48201  proximity thunderstorm  2018-09-30  21:00:00    21            0   \n",
       "48202         overcast clouds  2018-09-30  22:00:00    22            0   \n",
       "\n",
       "       temp_range  clouds_range  traffic_level  \n",
       "26990  (280, 285]           NaN              0  \n",
       "26991  (280, 285]           NaN              2  \n",
       "26992  (280, 285]           NaN              2  \n",
       "26993  (280, 285]           NaN              2  \n",
       "26994  (280, 285]           NaN              1  \n",
       "...           ...           ...            ...  \n",
       "48198  (280, 285]  (70.0, 80.0]              1  \n",
       "48199  (280, 285]  (70.0, 80.0]              1  \n",
       "48200  (280, 285]  (80.0, 90.0]              0  \n",
       "48201  (280, 285]  (80.0, 90.0]              0  \n",
       "48202  (280, 285]  (80.0, 90.0]              0  \n",
       "\n",
       "[16385 rows x 13 columns]"
      ]
     },
     "execution_count": 27,
     "metadata": {},
     "output_type": "execute_result"
    }
   ],
   "source": [
    "#makes a new column hour that stores the time as a number 0-23\n",
    "df_cleaned['hour'] = pd.to_datetime(df_cleaned['time'], format='%H:%M:%S')\n",
    "df_cleaned['hour'] = df_cleaned['hour'].dt.hour\n",
    "#makes a new column holiday_val taht stores the values of the holiday based on the mapping bellow\n",
    "unique_holidays = df_cleaned['holiday'].unique()\n",
    "holiday_mapping = {\n",
    "    'None': 0,\n",
    "    'New Years Day': 1,\n",
    "    'Memorial Day': 2,\n",
    "    'Independence Day': 3,\n",
    "    'Labor Day': 4,\n",
    "    'Thanksgiving Day': 5,\n",
    "    'Christmas Day': 6\n",
    "}\n",
    "\n",
    "# apply the mapping to the 'holiday' column and create a new column 'holiday_val'\n",
    "df_cleaned['holiday_val'] = df_cleaned['holiday'].map(holiday_mapping)\n",
    "\n",
    "# print the unique values\n",
    "#print(unique_holidays)\n",
    "\n",
    "df_cleaned"
   ]
  },
  {
   "cell_type": "code",
   "execution_count": null,
   "id": "0c8134c9",
   "metadata": {},
   "outputs": [],
   "source": []
  },
  {
   "cell_type": "code",
   "execution_count": null,
   "id": "b2699df5",
   "metadata": {},
   "outputs": [],
   "source": []
  }
 ],
 "metadata": {
  "kernelspec": {
   "display_name": "Python 3 (ipykernel)",
   "language": "python",
   "name": "python3"
  },
  "language_info": {
   "codemirror_mode": {
    "name": "ipython",
    "version": 3
   },
   "file_extension": ".py",
   "mimetype": "text/x-python",
   "name": "python",
   "nbconvert_exporter": "python",
   "pygments_lexer": "ipython3",
   "version": "3.9.13"
  }
 },
 "nbformat": 4,
 "nbformat_minor": 5
}
